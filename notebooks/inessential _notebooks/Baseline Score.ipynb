{
 "cells": [
  {
   "cell_type": "markdown",
   "id": "f16eb3f7",
   "metadata": {},
   "source": [
    "# Baseline Score"
   ]
  },
  {
   "cell_type": "code",
   "execution_count": 1,
   "id": "1149083a",
   "metadata": {},
   "outputs": [],
   "source": [
    "import numpy as np\n",
    "import pandas as pd\n",
    "from sklearn.metrics import mean_absolute_error\n",
    "from sklearn.metrics import mean_squared_error"
   ]
  },
  {
   "cell_type": "code",
   "execution_count": 2,
   "id": "dffc12db",
   "metadata": {},
   "outputs": [],
   "source": [
    "bdry = pd.read_csv(\"../data/cleaned_data.csv\")"
   ]
  },
  {
   "cell_type": "code",
   "execution_count": 5,
   "id": "180a4e4e",
   "metadata": {},
   "outputs": [],
   "source": [
    "bdry.drop(columns=\"Unnamed: 0\", inplace=True)"
   ]
  },
  {
   "cell_type": "code",
   "execution_count": 6,
   "id": "9aadaa2b",
   "metadata": {},
   "outputs": [
    {
     "data": {
      "text/html": [
       "<div>\n",
       "<style scoped>\n",
       "    .dataframe tbody tr th:only-of-type {\n",
       "        vertical-align: middle;\n",
       "    }\n",
       "\n",
       "    .dataframe tbody tr th {\n",
       "        vertical-align: top;\n",
       "    }\n",
       "\n",
       "    .dataframe thead th {\n",
       "        text-align: right;\n",
       "    }\n",
       "</style>\n",
       "<table border=\"1\" class=\"dataframe\">\n",
       "  <thead>\n",
       "    <tr style=\"text-align: right;\">\n",
       "      <th></th>\n",
       "      <th>time</th>\n",
       "      <th>BDRY</th>\n",
       "      <th>BDI</th>\n",
       "    </tr>\n",
       "  </thead>\n",
       "  <tbody>\n",
       "    <tr>\n",
       "      <th>0</th>\n",
       "      <td>2018-03-22</td>\n",
       "      <td>25.5130</td>\n",
       "      <td>1117.0</td>\n",
       "    </tr>\n",
       "    <tr>\n",
       "      <th>1</th>\n",
       "      <td>2018-03-23</td>\n",
       "      <td>24.1005</td>\n",
       "      <td>1122.0</td>\n",
       "    </tr>\n",
       "    <tr>\n",
       "      <th>2</th>\n",
       "      <td>2018-03-26</td>\n",
       "      <td>24.8400</td>\n",
       "      <td>1126.0</td>\n",
       "    </tr>\n",
       "    <tr>\n",
       "      <th>3</th>\n",
       "      <td>2018-03-27</td>\n",
       "      <td>24.0800</td>\n",
       "      <td>1117.0</td>\n",
       "    </tr>\n",
       "    <tr>\n",
       "      <th>4</th>\n",
       "      <td>2018-03-28</td>\n",
       "      <td>23.3800</td>\n",
       "      <td>1080.0</td>\n",
       "    </tr>\n",
       "    <tr>\n",
       "      <th>...</th>\n",
       "      <td>...</td>\n",
       "      <td>...</td>\n",
       "      <td>...</td>\n",
       "    </tr>\n",
       "    <tr>\n",
       "      <th>1113</th>\n",
       "      <td>2022-11-28</td>\n",
       "      <td>7.6600</td>\n",
       "      <td>1347.0</td>\n",
       "    </tr>\n",
       "    <tr>\n",
       "      <th>1114</th>\n",
       "      <td>2022-11-29</td>\n",
       "      <td>7.5400</td>\n",
       "      <td>1327.0</td>\n",
       "    </tr>\n",
       "    <tr>\n",
       "      <th>1115</th>\n",
       "      <td>2022-11-30</td>\n",
       "      <td>7.8600</td>\n",
       "      <td>1355.0</td>\n",
       "    </tr>\n",
       "    <tr>\n",
       "      <th>1116</th>\n",
       "      <td>2022-12-01</td>\n",
       "      <td>7.7100</td>\n",
       "      <td>1338.0</td>\n",
       "    </tr>\n",
       "    <tr>\n",
       "      <th>1117</th>\n",
       "      <td>2022-12-02</td>\n",
       "      <td>7.7000</td>\n",
       "      <td>1324.0</td>\n",
       "    </tr>\n",
       "  </tbody>\n",
       "</table>\n",
       "<p>1118 rows × 3 columns</p>\n",
       "</div>"
      ],
      "text/plain": [
       "            time     BDRY     BDI\n",
       "0     2018-03-22  25.5130  1117.0\n",
       "1     2018-03-23  24.1005  1122.0\n",
       "2     2018-03-26  24.8400  1126.0\n",
       "3     2018-03-27  24.0800  1117.0\n",
       "4     2018-03-28  23.3800  1080.0\n",
       "...          ...      ...     ...\n",
       "1113  2022-11-28   7.6600  1347.0\n",
       "1114  2022-11-29   7.5400  1327.0\n",
       "1115  2022-11-30   7.8600  1355.0\n",
       "1116  2022-12-01   7.7100  1338.0\n",
       "1117  2022-12-02   7.7000  1324.0\n",
       "\n",
       "[1118 rows x 3 columns]"
      ]
     },
     "execution_count": 6,
     "metadata": {},
     "output_type": "execute_result"
    }
   ],
   "source": [
    "bdry"
   ]
  },
  {
   "cell_type": "code",
   "execution_count": null,
   "id": "0962d2ca",
   "metadata": {},
   "outputs": [],
   "source": []
  }
 ],
 "metadata": {
  "kernelspec": {
   "display_name": "lewagon",
   "language": "python",
   "name": "python3"
  },
  "language_info": {
   "codemirror_mode": {
    "name": "ipython",
    "version": 3
   },
   "file_extension": ".py",
   "mimetype": "text/x-python",
   "name": "python",
   "nbconvert_exporter": "python",
   "pygments_lexer": "ipython3",
   "version": "3.8.12 (default, Oct 29 2022, 18:23:08) \n[Clang 14.0.0 (clang-1400.0.29.102)]"
  },
  "toc": {
   "base_numbering": 1,
   "nav_menu": {},
   "number_sections": true,
   "sideBar": true,
   "skip_h1_title": false,
   "title_cell": "Table of Contents",
   "title_sidebar": "Contents",
   "toc_cell": false,
   "toc_position": {},
   "toc_section_display": true,
   "toc_window_display": false
  },
  "vscode": {
   "interpreter": {
    "hash": "39ac2dff602a1a33893e2fdf00cef751d01c0715ea04523f8948142cabfa73b2"
   }
  }
 },
 "nbformat": 4,
 "nbformat_minor": 5
}
