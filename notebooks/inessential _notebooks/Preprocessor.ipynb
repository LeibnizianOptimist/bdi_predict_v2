{
 "cells": [
  {
   "cell_type": "markdown",
   "id": "bbcca118",
   "metadata": {},
   "source": [
    "# Preprocessor\n",
    "\n",
    "1. Create target (daily log differences between BDRY values).\n",
    "2. MinMax scale (normalize the features)\n",
    "3. Apply Sequencer/Window Generator (imported as a .py file)\n",
    "4"
   ]
  },
  {
   "cell_type": "code",
   "execution_count": 23,
   "id": "54ccc9e1",
   "metadata": {},
   "outputs": [
    {
     "name": "stdout",
     "output_type": "stream",
     "text": [
      "The autoreload extension is already loaded. To reload it, use:\n",
      "  %reload_ext autoreload\n"
     ]
    }
   ],
   "source": [
    "%load_ext autoreload\n",
    "\n",
    "%autoreload 2"
   ]
  },
  {
   "cell_type": "code",
   "execution_count": 24,
   "id": "4bec9136",
   "metadata": {},
   "outputs": [],
   "source": [
    "import numpy as np \n",
    "import pandas as pd\n",
    "import os\n",
    "\n",
    "from bdi_predict.model.params import BASE_PROJECT_PATH\n",
    "from bdi_predict.model.preprocessor import train_val_test_split, min_max_scaler"
   ]
  },
  {
   "cell_type": "code",
   "execution_count": 25,
   "id": "442ca9a6",
   "metadata": {},
   "outputs": [],
   "source": [
    "df = pd.read_csv(os.path.join(BASE_PROJECT_PATH, \"data\", \"cleaned_data.csv\"))"
   ]
  },
  {
   "cell_type": "code",
   "execution_count": 26,
   "id": "e6c5898f",
   "metadata": {},
   "outputs": [],
   "source": [
    "df = df.set_index(\"time\").copy()"
   ]
  },
  {
   "cell_type": "code",
   "execution_count": 27,
   "id": "6505dff5",
   "metadata": {},
   "outputs": [
    {
     "data": {
      "text/html": [
       "<div>\n",
       "<style scoped>\n",
       "    .dataframe tbody tr th:only-of-type {\n",
       "        vertical-align: middle;\n",
       "    }\n",
       "\n",
       "    .dataframe tbody tr th {\n",
       "        vertical-align: top;\n",
       "    }\n",
       "\n",
       "    .dataframe thead th {\n",
       "        text-align: right;\n",
       "    }\n",
       "</style>\n",
       "<table border=\"1\" class=\"dataframe\">\n",
       "  <thead>\n",
       "    <tr style=\"text-align: right;\">\n",
       "      <th></th>\n",
       "      <th>BDRY</th>\n",
       "      <th>BDI</th>\n",
       "      <th>log_BDRY</th>\n",
       "      <th>target</th>\n",
       "    </tr>\n",
       "    <tr>\n",
       "      <th>time</th>\n",
       "      <th></th>\n",
       "      <th></th>\n",
       "      <th></th>\n",
       "      <th></th>\n",
       "    </tr>\n",
       "  </thead>\n",
       "  <tbody>\n",
       "    <tr>\n",
       "      <th>2018-03-23</th>\n",
       "      <td>24.1005</td>\n",
       "      <td>1122.0</td>\n",
       "      <td>1.382026</td>\n",
       "      <td>-0.024735</td>\n",
       "    </tr>\n",
       "    <tr>\n",
       "      <th>2018-03-26</th>\n",
       "      <td>24.8400</td>\n",
       "      <td>1126.0</td>\n",
       "      <td>1.395152</td>\n",
       "      <td>0.013126</td>\n",
       "    </tr>\n",
       "    <tr>\n",
       "      <th>2018-03-27</th>\n",
       "      <td>24.0800</td>\n",
       "      <td>1117.0</td>\n",
       "      <td>1.381656</td>\n",
       "      <td>-0.013495</td>\n",
       "    </tr>\n",
       "  </tbody>\n",
       "</table>\n",
       "</div>"
      ],
      "text/plain": [
       "               BDRY     BDI  log_BDRY    target\n",
       "time                                           \n",
       "2018-03-23  24.1005  1122.0  1.382026 -0.024735\n",
       "2018-03-26  24.8400  1126.0  1.395152  0.013126\n",
       "2018-03-27  24.0800  1117.0  1.381656 -0.013495"
      ]
     },
     "execution_count": 27,
     "metadata": {},
     "output_type": "execute_result"
    }
   ],
   "source": [
    "df.head(3)"
   ]
  },
  {
   "cell_type": "code",
   "execution_count": 28,
   "id": "c69a6e60",
   "metadata": {},
   "outputs": [
    {
     "name": "stdout",
     "output_type": "stream",
     "text": [
      "1\n"
     ]
    }
   ],
   "source": [
    "train_val_test_ratio = (7, 2, 1) \n",
    "dfs = train_val_test_split(df=df, train_val_test_ratio=train_val_test_ratio)"
   ]
  },
  {
   "cell_type": "code",
   "execution_count": 38,
   "id": "9ac852e5",
   "metadata": {},
   "outputs": [
    {
     "name": "stdout",
     "output_type": "stream",
     "text": [
      "['BDRY' 'BDI' 'log_BDRY' 'target']\n",
      "<class 'numpy.ndarray'>\n"
     ]
    }
   ],
   "source": [
    "df_train_scaled, df_val_scaled, df_test_scaled = min_max_scaler(dfs=dfs)"
   ]
  },
  {
   "cell_type": "code",
   "execution_count": 39,
   "id": "b98b64b0",
   "metadata": {},
   "outputs": [
    {
     "data": {
      "text/html": [
       "<div>\n",
       "<style scoped>\n",
       "    .dataframe tbody tr th:only-of-type {\n",
       "        vertical-align: middle;\n",
       "    }\n",
       "\n",
       "    .dataframe tbody tr th {\n",
       "        vertical-align: top;\n",
       "    }\n",
       "\n",
       "    .dataframe thead th {\n",
       "        text-align: right;\n",
       "    }\n",
       "</style>\n",
       "<table border=\"1\" class=\"dataframe\">\n",
       "  <thead>\n",
       "    <tr style=\"text-align: right;\">\n",
       "      <th></th>\n",
       "      <th>BDRY</th>\n",
       "      <th>BDI</th>\n",
       "      <th>log_BDRY</th>\n",
       "      <th>target</th>\n",
       "    </tr>\n",
       "  </thead>\n",
       "  <tbody>\n",
       "    <tr>\n",
       "      <th>0</th>\n",
       "      <td>0.769748</td>\n",
       "      <td>0.240992</td>\n",
       "      <td>0.890506</td>\n",
       "      <td>0.337520</td>\n",
       "    </tr>\n",
       "    <tr>\n",
       "      <th>1</th>\n",
       "      <td>0.797941</td>\n",
       "      <td>0.242314</td>\n",
       "      <td>0.905305</td>\n",
       "      <td>0.531249</td>\n",
       "    </tr>\n",
       "    <tr>\n",
       "      <th>2</th>\n",
       "      <td>0.768967</td>\n",
       "      <td>0.239339</td>\n",
       "      <td>0.890090</td>\n",
       "      <td>0.395035</td>\n",
       "    </tr>\n",
       "  </tbody>\n",
       "</table>\n",
       "</div>"
      ],
      "text/plain": [
       "       BDRY       BDI  log_BDRY    target\n",
       "0  0.769748  0.240992  0.890506  0.337520\n",
       "1  0.797941  0.242314  0.905305  0.531249\n",
       "2  0.768967  0.239339  0.890090  0.395035"
      ]
     },
     "execution_count": 39,
     "metadata": {},
     "output_type": "execute_result"
    }
   ],
   "source": [
    "df_train_scaled.head(3)"
   ]
  },
  {
   "cell_type": "code",
   "execution_count": 40,
   "id": "aa653c04",
   "metadata": {},
   "outputs": [
    {
     "data": {
      "text/plain": [
       "pandas.core.frame.DataFrame"
      ]
     },
     "execution_count": 40,
     "metadata": {},
     "output_type": "execute_result"
    }
   ],
   "source": [
    "type(df_train)"
   ]
  }
 ],
 "metadata": {
  "kernelspec": {
   "display_name": "Python 3 (ipykernel)",
   "language": "python",
   "name": "python3"
  },
  "language_info": {
   "codemirror_mode": {
    "name": "ipython",
    "version": 3
   },
   "file_extension": ".py",
   "mimetype": "text/x-python",
   "name": "python",
   "nbconvert_exporter": "python",
   "pygments_lexer": "ipython3",
   "version": "3.10.8 (main, Dec  4 2022, 17:29:54) [Clang 14.0.0 (clang-1400.0.29.102)]"
  },
  "toc": {
   "base_numbering": 1,
   "nav_menu": {},
   "number_sections": true,
   "sideBar": true,
   "skip_h1_title": false,
   "title_cell": "Table of Contents",
   "title_sidebar": "Contents",
   "toc_cell": false,
   "toc_position": {},
   "toc_section_display": true,
   "toc_window_display": false
  },
  "vscode": {
   "interpreter": {
    "hash": "5f03800a1af740810cf78a80ba1c134f888e3ad6aeafce93e1104e1366090607"
   }
  }
 },
 "nbformat": 4,
 "nbformat_minor": 5
}
