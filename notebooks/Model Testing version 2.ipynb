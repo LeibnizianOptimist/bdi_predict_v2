{
 "cells": [
  {
   "cell_type": "markdown",
   "id": "bd519168",
   "metadata": {},
   "source": [
    "# Initial Model Testing with new Sequence Generator"
   ]
  },
  {
   "cell_type": "code",
   "execution_count": 97,
   "id": "2297abd2",
   "metadata": {},
   "outputs": [],
   "source": [
    "import numpy as np\n",
    "import pandas as pd \n",
    "import matplotlib.pyplot as plt\n",
    "\n",
    "#Keras\n",
    "from tensorflow import keras\n",
    "from tensorflow import stack, Tensor\n",
    "\n",
    "from keras import Sequential, layers\n",
    "\n",
    "from keras.callbacks import EarlyStopping\n",
    "from keras.optimizers import RMSprop\n",
    "\n",
    "from keras.callbacks import LearningRateScheduler\n",
    "from tensorflow.keras.optimizers.schedules import ExponentialDecay\n",
    "\n",
    "from keras.utils import timeseries_dataset_from_array\n",
    "\n",
    "\n",
    "from tensorflow import data\n",
    "\n",
    "\n",
    "\n",
    "#Project imports \n",
    "from bdi_predict.model.data import clean_data\n",
    "from bdi_predict.model.preprocessor import train_val_test_split, min_max_scaler\n",
    "from bdi_predict.model.sequencer import SequenceGenerator\n",
    "from bdi_predict.model.params import BASE_PROJECT_PATH\n"
   ]
  },
  {
   "cell_type": "code",
   "execution_count": 68,
   "id": "236138f5",
   "metadata": {},
   "outputs": [
    {
     "name": "stdout",
     "output_type": "stream",
     "text": [
      "The autoreload extension is already loaded. To reload it, use:\n",
      "  %reload_ext autoreload\n"
     ]
    }
   ],
   "source": [
    "%load_ext autoreload\n",
    "%autoreload 2"
   ]
  },
  {
   "cell_type": "markdown",
   "id": "1e54111c",
   "metadata": {},
   "source": [
    "## Preprocessing - (splitting data, scaling, and creating sequences)"
   ]
  },
  {
   "cell_type": "code",
   "execution_count": 69,
   "id": "90d2251d",
   "metadata": {},
   "outputs": [
    {
     "data": {
      "text/html": [
       "<div>\n",
       "<style scoped>\n",
       "    .dataframe tbody tr th:only-of-type {\n",
       "        vertical-align: middle;\n",
       "    }\n",
       "\n",
       "    .dataframe tbody tr th {\n",
       "        vertical-align: top;\n",
       "    }\n",
       "\n",
       "    .dataframe thead th {\n",
       "        text-align: right;\n",
       "    }\n",
       "</style>\n",
       "<table border=\"1\" class=\"dataframe\">\n",
       "  <thead>\n",
       "    <tr style=\"text-align: right;\">\n",
       "      <th></th>\n",
       "      <th>BDRY</th>\n",
       "      <th>BDI</th>\n",
       "      <th>target</th>\n",
       "    </tr>\n",
       "    <tr>\n",
       "      <th>time</th>\n",
       "      <th></th>\n",
       "      <th></th>\n",
       "      <th></th>\n",
       "    </tr>\n",
       "  </thead>\n",
       "  <tbody>\n",
       "    <tr>\n",
       "      <th>2018-03-23</th>\n",
       "      <td>24.1005</td>\n",
       "      <td>1122.0</td>\n",
       "      <td>-0.024735</td>\n",
       "    </tr>\n",
       "    <tr>\n",
       "      <th>2018-03-26</th>\n",
       "      <td>24.8400</td>\n",
       "      <td>1126.0</td>\n",
       "      <td>0.013126</td>\n",
       "    </tr>\n",
       "    <tr>\n",
       "      <th>2018-03-27</th>\n",
       "      <td>24.0800</td>\n",
       "      <td>1117.0</td>\n",
       "      <td>-0.013495</td>\n",
       "    </tr>\n",
       "  </tbody>\n",
       "</table>\n",
       "</div>"
      ],
      "text/plain": [
       "               BDRY     BDI    target\n",
       "time                                 \n",
       "2018-03-23  24.1005  1122.0 -0.024735\n",
       "2018-03-26  24.8400  1126.0  0.013126\n",
       "2018-03-27  24.0800  1117.0 -0.013495"
      ]
     },
     "execution_count": 69,
     "metadata": {},
     "output_type": "execute_result"
    }
   ],
   "source": [
    "df = pd.read_csv(\"../data/cleaned_data.csv\")\n",
    "df = df.drop(columns=\"log_BDRY\").copy()\n",
    "df.set_index(\"time\", inplace=True)\n",
    "df.head(3)"
   ]
  },
  {
   "cell_type": "code",
   "execution_count": 70,
   "id": "f28d1f2c",
   "metadata": {},
   "outputs": [
    {
     "name": "stdout",
     "output_type": "stream",
     "text": [
      "Data split into train, validation, and test datasets.\n"
     ]
    }
   ],
   "source": [
    "dfs = train_val_test_split(df=df, train_val_test_ratio=(7,2,1))"
   ]
  },
  {
   "cell_type": "code",
   "execution_count": 71,
   "id": "ef78a820",
   "metadata": {},
   "outputs": [
    {
     "name": "stdout",
     "output_type": "stream",
     "text": [
      "Datasets min-max scaled.\n"
     ]
    }
   ],
   "source": [
    "df_train, df_val, df_test = min_max_scaler(dfs=dfs)"
   ]
  },
  {
   "cell_type": "code",
   "execution_count": 72,
   "id": "cb766fbd",
   "metadata": {},
   "outputs": [
    {
     "data": {
      "text/html": [
       "<div>\n",
       "<style scoped>\n",
       "    .dataframe tbody tr th:only-of-type {\n",
       "        vertical-align: middle;\n",
       "    }\n",
       "\n",
       "    .dataframe tbody tr th {\n",
       "        vertical-align: top;\n",
       "    }\n",
       "\n",
       "    .dataframe thead th {\n",
       "        text-align: right;\n",
       "    }\n",
       "</style>\n",
       "<table border=\"1\" class=\"dataframe\">\n",
       "  <thead>\n",
       "    <tr style=\"text-align: right;\">\n",
       "      <th></th>\n",
       "      <th>BDRY</th>\n",
       "      <th>BDI</th>\n",
       "      <th>target</th>\n",
       "    </tr>\n",
       "  </thead>\n",
       "  <tbody>\n",
       "    <tr>\n",
       "      <th>0</th>\n",
       "      <td>0.769748</td>\n",
       "      <td>0.240992</td>\n",
       "      <td>0.337520</td>\n",
       "    </tr>\n",
       "    <tr>\n",
       "      <th>1</th>\n",
       "      <td>0.797941</td>\n",
       "      <td>0.242314</td>\n",
       "      <td>0.531249</td>\n",
       "    </tr>\n",
       "    <tr>\n",
       "      <th>2</th>\n",
       "      <td>0.768967</td>\n",
       "      <td>0.239339</td>\n",
       "      <td>0.395035</td>\n",
       "    </tr>\n",
       "  </tbody>\n",
       "</table>\n",
       "</div>"
      ],
      "text/plain": [
       "       BDRY       BDI    target\n",
       "0  0.769748  0.240992  0.337520\n",
       "1  0.797941  0.242314  0.531249\n",
       "2  0.768967  0.239339  0.395035"
      ]
     },
     "execution_count": 72,
     "metadata": {},
     "output_type": "execute_result"
    }
   ],
   "source": [
    "df_train.head(3)"
   ]
  },
  {
   "cell_type": "code",
   "execution_count": 73,
   "id": "1f32d293",
   "metadata": {},
   "outputs": [
    {
     "data": {
      "text/html": [
       "<div>\n",
       "<style scoped>\n",
       "    .dataframe tbody tr th:only-of-type {\n",
       "        vertical-align: middle;\n",
       "    }\n",
       "\n",
       "    .dataframe tbody tr th {\n",
       "        vertical-align: top;\n",
       "    }\n",
       "\n",
       "    .dataframe thead th {\n",
       "        text-align: right;\n",
       "    }\n",
       "</style>\n",
       "<table border=\"1\" class=\"dataframe\">\n",
       "  <thead>\n",
       "    <tr style=\"text-align: right;\">\n",
       "      <th></th>\n",
       "      <th>BDRY</th>\n",
       "      <th>BDI</th>\n",
       "      <th>target</th>\n",
       "    </tr>\n",
       "  </thead>\n",
       "  <tbody>\n",
       "    <tr>\n",
       "      <th>0</th>\n",
       "      <td>0.865040</td>\n",
       "      <td>0.984463</td>\n",
       "      <td>0.453253</td>\n",
       "    </tr>\n",
       "    <tr>\n",
       "      <th>1</th>\n",
       "      <td>0.858178</td>\n",
       "      <td>0.984463</td>\n",
       "      <td>0.448999</td>\n",
       "    </tr>\n",
       "    <tr>\n",
       "      <th>2</th>\n",
       "      <td>0.880671</td>\n",
       "      <td>0.985785</td>\n",
       "      <td>0.513167</td>\n",
       "    </tr>\n",
       "  </tbody>\n",
       "</table>\n",
       "</div>"
      ],
      "text/plain": [
       "       BDRY       BDI    target\n",
       "0  0.865040  0.984463  0.453253\n",
       "1  0.858178  0.984463  0.448999\n",
       "2  0.880671  0.985785  0.513167"
      ]
     },
     "execution_count": 73,
     "metadata": {},
     "output_type": "execute_result"
    }
   ],
   "source": [
    "df_val.head(3)"
   ]
  },
  {
   "cell_type": "code",
   "execution_count": 74,
   "id": "ae9086f1",
   "metadata": {},
   "outputs": [
    {
     "data": {
      "text/html": [
       "<div>\n",
       "<style scoped>\n",
       "    .dataframe tbody tr th:only-of-type {\n",
       "        vertical-align: middle;\n",
       "    }\n",
       "\n",
       "    .dataframe tbody tr th {\n",
       "        vertical-align: top;\n",
       "    }\n",
       "\n",
       "    .dataframe thead th {\n",
       "        text-align: right;\n",
       "    }\n",
       "</style>\n",
       "<table border=\"1\" class=\"dataframe\">\n",
       "  <thead>\n",
       "    <tr style=\"text-align: right;\">\n",
       "      <th></th>\n",
       "      <th>BDRY</th>\n",
       "      <th>BDI</th>\n",
       "      <th>target</th>\n",
       "    </tr>\n",
       "  </thead>\n",
       "  <tbody>\n",
       "    <tr>\n",
       "      <th>0</th>\n",
       "      <td>0.462066</td>\n",
       "      <td>0.598678</td>\n",
       "      <td>0.417447</td>\n",
       "    </tr>\n",
       "    <tr>\n",
       "      <th>1</th>\n",
       "      <td>0.488753</td>\n",
       "      <td>0.592727</td>\n",
       "      <td>0.559068</td>\n",
       "    </tr>\n",
       "    <tr>\n",
       "      <th>2</th>\n",
       "      <td>0.505528</td>\n",
       "      <td>0.610579</td>\n",
       "      <td>0.521776</td>\n",
       "    </tr>\n",
       "  </tbody>\n",
       "</table>\n",
       "</div>"
      ],
      "text/plain": [
       "       BDRY       BDI    target\n",
       "0  0.462066  0.598678  0.417447\n",
       "1  0.488753  0.592727  0.559068\n",
       "2  0.505528  0.610579  0.521776"
      ]
     },
     "execution_count": 74,
     "metadata": {},
     "output_type": "execute_result"
    }
   ],
   "source": [
    "df_test.head(3)"
   ]
  },
  {
   "cell_type": "code",
   "execution_count": 75,
   "id": "d416bcd2",
   "metadata": {},
   "outputs": [
    {
     "data": {
      "text/plain": [
       "Total sequence size: 21\n",
       "Input indices: [ 0  1  2  3  4  5  6  7  8  9 10 11 12 13 14 15 16 17 18 19]\n",
       "Target indice(s): [20]\n",
       "Target column name(s): ['target']"
      ]
     },
     "execution_count": 75,
     "metadata": {},
     "output_type": "execute_result"
    }
   ],
   "source": [
    "#Instantiating a SequenceGenerator Class\n",
    "\n",
    "Sequencer = SequenceGenerator(input_width=20,\n",
    "                                      target_width=1,\n",
    "                                      offset=1,\n",
    "                                      df_train=df_train,\n",
    "                                      df_val=df_val,\n",
    "                                     df_test=df_test,\n",
    "                                     target_columns=[\"target\"])\n",
    "\n",
    "Sequencer"
   ]
  },
  {
   "cell_type": "code",
   "execution_count": 76,
   "id": "f8b6b44c",
   "metadata": {},
   "outputs": [
    {
     "data": {
      "text/plain": [
       "782"
      ]
     },
     "execution_count": 76,
     "metadata": {},
     "output_type": "execute_result"
    }
   ],
   "source": [
    "len(df_train)"
   ]
  },
  {
   "cell_type": "code",
   "execution_count": 77,
   "id": "4498f5e2",
   "metadata": {},
   "outputs": [
    {
     "data": {
      "text/plain": [
       "21"
      ]
     },
     "execution_count": 77,
     "metadata": {},
     "output_type": "execute_result"
    }
   ],
   "source": [
    "Sequencer.total_sequence_size"
   ]
  },
  {
   "cell_type": "code",
   "execution_count": 78,
   "id": "c913ab32",
   "metadata": {},
   "outputs": [
    {
     "data": {
      "text/plain": [
       "1"
      ]
     },
     "execution_count": 78,
     "metadata": {},
     "output_type": "execute_result"
    }
   ],
   "source": [
    "Sequencer.target_width"
   ]
  },
  {
   "cell_type": "markdown",
   "id": "bce9d1f0",
   "metadata": {},
   "source": [
    "## Testing out the Sequence"
   ]
  },
  {
   "cell_type": "code",
   "execution_count": 79,
   "id": "1fc6b0c6",
   "metadata": {},
   "outputs": [
    {
     "data": {
      "text/plain": [
       "TensorShape([3, 21, 3])"
      ]
     },
     "execution_count": 79,
     "metadata": {},
     "output_type": "execute_result"
    }
   ],
   "source": [
    "example_sequence = stack([np.array(df_train[:Sequencer.total_sequence_size]),\n",
    "                           np.array(df_train[100:100+Sequencer.total_sequence_size]),\n",
    "                           np.array(df_train[200:200+Sequencer.total_sequence_size])])\n",
    "example_sequence.shape"
   ]
  },
  {
   "cell_type": "code",
   "execution_count": 80,
   "id": "179922e8",
   "metadata": {},
   "outputs": [
    {
     "data": {
      "text/plain": [
       "<tf.Tensor: shape=(), dtype=float64, numpy=0.39503531854439916>"
      ]
     },
     "execution_count": 80,
     "metadata": {},
     "output_type": "execute_result"
    }
   ],
   "source": [
    "example_sequence[0, 2, 2]"
   ]
  },
  {
   "cell_type": "code",
   "execution_count": 81,
   "id": "a662799c",
   "metadata": {},
   "outputs": [
    {
     "name": "stdout",
     "output_type": "stream",
     "text": [
      "All shapes are: (batch, time, features)\n",
      "Sequence shape: (3, 21, 3)\n",
      "Inputs shape: (3, 20, 3)\n",
      "targets shape: (3, 1, 1)\n"
     ]
    }
   ],
   "source": [
    "# Inputting a tf.Tensor made up of 3 slices \n",
    "#(the 3 sequenecs that make up a single batch of batch_size=3) to generate\n",
    "\n",
    "# Stack 3 slices, the length of the total window.\n",
    "# FIX THIS!\n",
    "\n",
    "example_inputs, example_targets = Sequencer.split_sequence(example_sequence)\n",
    "\n",
    "print('All shapes are: (batch, time, features)')\n",
    "print(f'Sequence shape: {example_sequence.shape}')\n",
    "print(f'Inputs shape: {example_inputs.shape}')\n",
    "print(f'targets shape: {example_targets.shape}')\n",
    "\n",
    "#Desired shapes\n",
    "#Sequence shape: (3, 21, 2)\n",
    "#Inputs Shape: (3, 20, 2)\n",
    "# target shape: (3, 1, 1)"
   ]
  },
  {
   "cell_type": "code",
   "execution_count": 82,
   "id": "ae8d73a8",
   "metadata": {},
   "outputs": [],
   "source": [
    "train = Sequencer.train "
   ]
  },
  {
   "cell_type": "code",
   "execution_count": 83,
   "id": "2519f761",
   "metadata": {},
   "outputs": [
    {
     "data": {
      "text/plain": [
       "tensorflow.python.data.ops.dataset_ops.MapDataset"
      ]
     },
     "execution_count": 83,
     "metadata": {},
     "output_type": "execute_result"
    }
   ],
   "source": [
    "type(train)"
   ]
  },
  {
   "cell_type": "code",
   "execution_count": 84,
   "id": "9ef8e3c8",
   "metadata": {},
   "outputs": [
    {
     "data": {
      "text/plain": [
       "(TensorSpec(shape=(None, 20, 3), dtype=tf.float64, name=None),\n",
       " TensorSpec(shape=(None, 1, 1), dtype=tf.float64, name=None))"
      ]
     },
     "execution_count": 84,
     "metadata": {},
     "output_type": "execute_result"
    }
   ],
   "source": [
    "# \"The Dataset.element_spec property tells you the structure, data types, and shapes of the dataset elements.\"\n",
    "\n",
    "train.element_spec"
   ]
  },
  {
   "cell_type": "code",
   "execution_count": 85,
   "id": "78806a3f",
   "metadata": {},
   "outputs": [
    {
     "name": "stdout",
     "output_type": "stream",
     "text": [
      "Inputs shape (batch, time, features): (32, 20, 3)\n",
      "Labels shape (batch, time, features): (32, 1, 1)\n"
     ]
    }
   ],
   "source": [
    "for example_inputs, example_targets in Sequencer.train.take(1):\n",
    "    print(f'Inputs shape (batch, time, features): {example_inputs.shape}')\n",
    "    print(f'Labels shape (batch, time, features): {example_targets.shape}')"
   ]
  },
  {
   "cell_type": "markdown",
   "id": "eede416a",
   "metadata": {},
   "source": [
    "# Training the Model"
   ]
  },
  {
   "cell_type": "code",
   "execution_count": 91,
   "id": "140fe140",
   "metadata": {},
   "outputs": [],
   "source": [
    "def init_model():\n",
    "    \n",
    "    \"\"\" \n",
    "    Initialize the LSTM Reucrrent Neural Network.\n",
    "    \"\"\"\n",
    "    \n",
    "    print(\"\\nInitialising model...\")\n",
    "    \n",
    "    model = Sequential()\n",
    "\n",
    "    #LSTM LAYERS:\n",
    "    \n",
    "    model.add(layers.LSTM(60,\n",
    "                          activation=\"tanh\",\n",
    "                          input_shape=(20,3),\n",
    "                          return_sequences=False))\n",
    "\n",
    "    #DENSE LAYERS:\n",
    "    \n",
    "    model.add(layers.Dense(25, activation=\"relu\"))\n",
    "    model.add(layers.Dense(1, activation=\"linear\"))\n",
    "    \n",
    "    print(\"\\nmodel initialized.\")\n",
    "\n",
    "    #SETTING UP OPTIMIZERS:\n",
    "    \n",
    "    lr_schedule = ExponentialDecay(initial_learning_rate=1e-3,\n",
    "                                   decay_steps=10000,\n",
    "                                   decay_rate=0.9)\n",
    "    \n",
    "    rmsprop = RMSprop(learning_rate=lr_schedule)\n",
    "    \n",
    "    #COMPILING MODEL:\n",
    "    \n",
    "    model.compile(loss=\"mse\",\n",
    "                  optimizer=rmsprop,\n",
    "                  metrics=\"mae\")\n",
    "    print(\"\\nmodel compiled.\")\n",
    "    \n",
    "\n",
    "    return model"
   ]
  },
  {
   "cell_type": "code",
   "execution_count": 92,
   "id": "68afb5f5",
   "metadata": {},
   "outputs": [],
   "source": [
    "def train_model(model,\n",
    "                sequence_generator,\n",
    "                patience=10):\n",
    "    \n",
    "    \"\"\"\n",
    "    Fit model and return a the tuple (fitted_model, history)\n",
    "    \"\"\"\n",
    "    \n",
    "    print(\"\\nTraining model...\")\n",
    "    \n",
    "    \n",
    "    #EarlyStopping DEFINITION:\n",
    "    \n",
    "    es = EarlyStopping(monitor=\"val_mae\",\n",
    "                       patience=patience,\n",
    "                       restore_best_weights=True)\n",
    "    \n",
    "    #FITTING MODEL:\n",
    "    \n",
    "    history = model.fit(sequence_generator.train,\n",
    "                        epochs=100,\n",
    "                        validation_data=sequence_generator.val,\n",
    "                        shuffle=True,\n",
    "                        callbacks=es)\n",
    "    \n",
    "    \n",
    "     \n",
    "    return model, history"
   ]
  },
  {
   "cell_type": "code",
   "execution_count": 93,
   "id": "52c21486",
   "metadata": {},
   "outputs": [
    {
     "name": "stdout",
     "output_type": "stream",
     "text": [
      "\n",
      "Initialising model...\n",
      "\n",
      "model initialized.\n",
      "\n",
      "model compiled.\n"
     ]
    }
   ],
   "source": [
    "lstm_model = init_model()"
   ]
  },
  {
   "cell_type": "code",
   "execution_count": 94,
   "id": "68087182",
   "metadata": {},
   "outputs": [
    {
     "name": "stdout",
     "output_type": "stream",
     "text": [
      "\n",
      "Training model...\n",
      "Epoch 1/100\n"
     ]
    },
    {
     "name": "stderr",
     "output_type": "stream",
     "text": [
      "2022-12-22 17:03:41.950140: I tensorflow/core/grappler/optimizers/custom_graph_optimizer_registry.cc:114] Plugin optimizer for device_type GPU is enabled.\n",
      "2022-12-22 17:03:42.132919: I tensorflow/core/grappler/optimizers/custom_graph_optimizer_registry.cc:114] Plugin optimizer for device_type GPU is enabled.\n",
      "2022-12-22 17:03:44.501078: I tensorflow/core/grappler/optimizers/custom_graph_optimizer_registry.cc:114] Plugin optimizer for device_type GPU is enabled.\n"
     ]
    },
    {
     "name": "stdout",
     "output_type": "stream",
     "text": [
      "24/24 [==============================] - ETA: 0s - loss: 0.2089 - mae: 0.4471"
     ]
    },
    {
     "name": "stderr",
     "output_type": "stream",
     "text": [
      "2022-12-22 17:03:46.381952: I tensorflow/core/grappler/optimizers/custom_graph_optimizer_registry.cc:114] Plugin optimizer for device_type GPU is enabled.\n",
      "2022-12-22 17:03:46.440280: I tensorflow/core/grappler/optimizers/custom_graph_optimizer_registry.cc:114] Plugin optimizer for device_type GPU is enabled.\n"
     ]
    },
    {
     "name": "stdout",
     "output_type": "stream",
     "text": [
      "24/24 [==============================] - 6s 51ms/step - loss: 0.2089 - mae: 0.4471 - val_loss: 0.1936 - val_mae: 0.4261\n",
      "Epoch 2/100\n",
      "24/24 [==============================] - 0s 14ms/step - loss: 0.1861 - mae: 0.4210 - val_loss: 0.1739 - val_mae: 0.4023\n",
      "Epoch 3/100\n",
      "24/24 [==============================] - 0s 14ms/step - loss: 0.1668 - mae: 0.3975 - val_loss: 0.1555 - val_mae: 0.3788\n",
      "Epoch 4/100\n",
      "24/24 [==============================] - 0s 14ms/step - loss: 0.1487 - mae: 0.3740 - val_loss: 0.1383 - val_mae: 0.3555\n",
      "Epoch 5/100\n",
      "24/24 [==============================] - 0s 14ms/step - loss: 0.1318 - mae: 0.3507 - val_loss: 0.1223 - val_mae: 0.3324\n",
      "Epoch 6/100\n",
      "24/24 [==============================] - 0s 14ms/step - loss: 0.1160 - mae: 0.3276 - val_loss: 0.1073 - val_mae: 0.3093\n",
      "Epoch 7/100\n",
      "24/24 [==============================] - 0s 14ms/step - loss: 0.1013 - mae: 0.3042 - val_loss: 0.0936 - val_mae: 0.2866\n",
      "Epoch 8/100\n",
      "24/24 [==============================] - 0s 14ms/step - loss: 0.0878 - mae: 0.2812 - val_loss: 0.0809 - val_mae: 0.2641\n",
      "Epoch 9/100\n",
      "24/24 [==============================] - 0s 14ms/step - loss: 0.0753 - mae: 0.2585 - val_loss: 0.0692 - val_mae: 0.2415\n",
      "Epoch 10/100\n",
      "24/24 [==============================] - 0s 14ms/step - loss: 0.0639 - mae: 0.2359 - val_loss: 0.0587 - val_mae: 0.2194\n",
      "Epoch 11/100\n",
      "24/24 [==============================] - 0s 14ms/step - loss: 0.0537 - mae: 0.2136 - val_loss: 0.0493 - val_mae: 0.1985\n",
      "Epoch 12/100\n",
      "24/24 [==============================] - 0s 14ms/step - loss: 0.0445 - mae: 0.1919 - val_loss: 0.0411 - val_mae: 0.1786\n",
      "Epoch 13/100\n",
      "24/24 [==============================] - 0s 14ms/step - loss: 0.0365 - mae: 0.1703 - val_loss: 0.0338 - val_mae: 0.1595\n",
      "Epoch 14/100\n",
      "24/24 [==============================] - 0s 14ms/step - loss: 0.0295 - mae: 0.1498 - val_loss: 0.0277 - val_mae: 0.1420\n",
      "Epoch 15/100\n",
      "24/24 [==============================] - 0s 14ms/step - loss: 0.0235 - mae: 0.1306 - val_loss: 0.0226 - val_mae: 0.1263\n",
      "Epoch 16/100\n",
      "24/24 [==============================] - 0s 14ms/step - loss: 0.0188 - mae: 0.1132 - val_loss: 0.0187 - val_mae: 0.1137\n",
      "Epoch 17/100\n",
      "24/24 [==============================] - 0s 14ms/step - loss: 0.0150 - mae: 0.0985 - val_loss: 0.0157 - val_mae: 0.1027\n",
      "Epoch 18/100\n",
      "24/24 [==============================] - 0s 14ms/step - loss: 0.0122 - mae: 0.0864 - val_loss: 0.0137 - val_mae: 0.0947\n",
      "Epoch 19/100\n",
      "24/24 [==============================] - 0s 14ms/step - loss: 0.0104 - mae: 0.0778 - val_loss: 0.0125 - val_mae: 0.0900\n",
      "Epoch 20/100\n",
      "24/24 [==============================] - 0s 14ms/step - loss: 0.0093 - mae: 0.0725 - val_loss: 0.0120 - val_mae: 0.0876\n",
      "Epoch 21/100\n",
      "24/24 [==============================] - 0s 14ms/step - loss: 0.0090 - mae: 0.0706 - val_loss: 0.0120 - val_mae: 0.0871\n",
      "Epoch 22/100\n",
      "24/24 [==============================] - 0s 14ms/step - loss: 0.0089 - mae: 0.0701 - val_loss: 0.0120 - val_mae: 0.0871\n",
      "Epoch 23/100\n",
      "24/24 [==============================] - 0s 14ms/step - loss: 0.0089 - mae: 0.0700 - val_loss: 0.0120 - val_mae: 0.0871\n",
      "Epoch 24/100\n",
      "24/24 [==============================] - 0s 15ms/step - loss: 0.0089 - mae: 0.0700 - val_loss: 0.0120 - val_mae: 0.0871\n",
      "Epoch 25/100\n",
      "24/24 [==============================] - 0s 14ms/step - loss: 0.0089 - mae: 0.0700 - val_loss: 0.0120 - val_mae: 0.0871\n",
      "Epoch 26/100\n",
      "24/24 [==============================] - 0s 14ms/step - loss: 0.0089 - mae: 0.0699 - val_loss: 0.0120 - val_mae: 0.0871\n",
      "Epoch 27/100\n",
      "24/24 [==============================] - 0s 14ms/step - loss: 0.0089 - mae: 0.0700 - val_loss: 0.0120 - val_mae: 0.0871\n",
      "Epoch 28/100\n",
      "24/24 [==============================] - 0s 14ms/step - loss: 0.0089 - mae: 0.0700 - val_loss: 0.0120 - val_mae: 0.0871\n",
      "Epoch 29/100\n",
      "24/24 [==============================] - 0s 14ms/step - loss: 0.0089 - mae: 0.0700 - val_loss: 0.0120 - val_mae: 0.0871\n",
      "Epoch 30/100\n",
      "24/24 [==============================] - 0s 14ms/step - loss: 0.0089 - mae: 0.0700 - val_loss: 0.0120 - val_mae: 0.0871\n",
      "Epoch 31/100\n",
      "24/24 [==============================] - 0s 14ms/step - loss: 0.0089 - mae: 0.0699 - val_loss: 0.0120 - val_mae: 0.0871\n",
      "Epoch 32/100\n",
      "24/24 [==============================] - 0s 14ms/step - loss: 0.0089 - mae: 0.0701 - val_loss: 0.0120 - val_mae: 0.0871\n",
      "Epoch 33/100\n",
      "24/24 [==============================] - 0s 14ms/step - loss: 0.0089 - mae: 0.0700 - val_loss: 0.0120 - val_mae: 0.0871\n",
      "Epoch 34/100\n",
      "24/24 [==============================] - 0s 15ms/step - loss: 0.0089 - mae: 0.0700 - val_loss: 0.0120 - val_mae: 0.0871\n"
     ]
    }
   ],
   "source": [
    "model, history = train_model(lstm_model, Sequencer, patience=10)"
   ]
  },
  {
   "cell_type": "code",
   "execution_count": 98,
   "id": "7c0d665b",
   "metadata": {},
   "outputs": [],
   "source": [
    "def plot_history(history):\n",
    "    \n",
    "    fig, ax = plt.subplots(1,2, figsize=(20,7))\n",
    "    # Loss:MSE\n",
    "    ax[0].plot(history.history['loss'])\n",
    "    ax[0].plot(history.history['val_loss'])\n",
    "    ax[0].set_title('MSE')\n",
    "    ax[0].set_ylabel('Loss')\n",
    "    ax[0].set_xlabel('Epoch')\n",
    "    ax[0].legend(['Train', 'Validation'], loc='best')\n",
    "    ax[0].grid(axis=\"x\",linewidth=0.5)\n",
    "    ax[0].grid(axis=\"y\",linewidth=0.5)\n",
    "    \n",
    "    # Metrics:MAE\n",
    "    \n",
    "    ax[1].plot(history.history['mae'])\n",
    "    ax[1].plot(history.history['val_mae'])\n",
    "    ax[1].set_title('MAE')\n",
    "    ax[1].set_ylabel('MAE')\n",
    "    ax[1].set_xlabel('Epoch')\n",
    "    ax[1].legend(['Train', 'Validation'], loc='best')\n",
    "    ax[1].grid(axis=\"x\",linewidth=0.5)\n",
    "    ax[1].grid(axis=\"y\",linewidth=0.5)\n",
    "                        \n",
    "    return ax"
   ]
  },
  {
   "cell_type": "code",
   "execution_count": 99,
   "id": "c6176c8d",
   "metadata": {},
   "outputs": [
    {
     "data": {
      "text/plain": [
       "array([<AxesSubplot: title={'center': 'MSE'}, xlabel='Epoch', ylabel='Loss'>,\n",
       "       <AxesSubplot: title={'center': 'MAE'}, xlabel='Epoch', ylabel='MAE'>],\n",
       "      dtype=object)"
      ]
     },
     "execution_count": 99,
     "metadata": {},
     "output_type": "execute_result"
    },
    {
     "data": {
      "image/png": "[encoded data removed]",
      "text/plain": [
       "<Figure size 2000x700 with 2 Axes>"
      ]
     },
     "metadata": {},
     "output_type": "display_data"
    }
   ],
   "source": [
    "plot_history(history)"
   ]
  }
 ],
 "metadata": {
  "kernelspec": {
   "display_name": "Python 3 (ipykernel)",
   "language": "python",
   "name": "python3"
  },
  "language_info": {
   "codemirror_mode": {
    "name": "ipython",
    "version": 3
   },
   "file_extension": ".py",
   "mimetype": "text/x-python",
   "name": "python",
   "nbconvert_exporter": "python",
   "pygments_lexer": "ipython3",
   "version": "3.10.8"
  },
  "toc": {
   "base_numbering": 1,
   "nav_menu": {},
   "number_sections": true,
   "sideBar": true,
   "skip_h1_title": false,
   "title_cell": "Table of Contents",
   "title_sidebar": "Contents",
   "toc_cell": false,
   "toc_position": {},
   "toc_section_display": true,
   "toc_window_display": false
  }
 },
 "nbformat": 4,
 "nbformat_minor": 5
}
