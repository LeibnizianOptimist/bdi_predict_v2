{
 "cells": [
  {
   "cell_type": "markdown",
   "id": "bd519168",
   "metadata": {},
   "source": [
    "# Initial Model Testing with new Sequence Generator"
   ]
  },
  {
   "cell_type": "code",
   "execution_count": 1,
   "id": "2297abd2",
   "metadata": {},
   "outputs": [],
   "source": [
    "import numpy as np\n",
    "import pandas as pd \n",
    "\n",
    "#Keras\n",
    "from tensorflow import keras\n",
    "from tensorflow import stack, Tensor\n",
    "from keras import Sequential, layers\n",
    "from keras.callbacks import EarlyStopping\n",
    "from keras.optimizers import RMSprop\n",
    "from keras.callbacks import LearningRateScheduler\n",
    "from keras.utils import timeseries_dataset_from_array\n",
    "from tensorflow import data\n",
    "\n",
    "\n",
    "\n",
    "#Project imports \n",
    "from bdi_predict.model.data import clean_data\n",
    "from bdi_predict.model.preprocessor import train_val_test_split, min_max_scaler\n",
    "from bdi_predict.model.sequencer import SequenceGenerator\n",
    "from bdi_predict.model.params import BASE_PROJECT_PATH\n"
   ]
  },
  {
   "cell_type": "code",
   "execution_count": 2,
   "id": "236138f5",
   "metadata": {},
   "outputs": [],
   "source": [
    "%load_ext autoreload\n",
    "%autoreload 2"
   ]
  },
  {
   "cell_type": "markdown",
   "id": "1e54111c",
   "metadata": {},
   "source": [
    "## Preprocessing - (splitting data, scaling, and creating sequences)"
   ]
  },
  {
   "cell_type": "code",
   "execution_count": 3,
   "id": "90d2251d",
   "metadata": {},
   "outputs": [
    {
     "data": {
      "text/html": [
       "<div>\n",
       "<style scoped>\n",
       "    .dataframe tbody tr th:only-of-type {\n",
       "        vertical-align: middle;\n",
       "    }\n",
       "\n",
       "    .dataframe tbody tr th {\n",
       "        vertical-align: top;\n",
       "    }\n",
       "\n",
       "    .dataframe thead th {\n",
       "        text-align: right;\n",
       "    }\n",
       "</style>\n",
       "<table border=\"1\" class=\"dataframe\">\n",
       "  <thead>\n",
       "    <tr style=\"text-align: right;\">\n",
       "      <th></th>\n",
       "      <th>BDRY</th>\n",
       "      <th>BDI</th>\n",
       "      <th>target</th>\n",
       "    </tr>\n",
       "    <tr>\n",
       "      <th>time</th>\n",
       "      <th></th>\n",
       "      <th></th>\n",
       "      <th></th>\n",
       "    </tr>\n",
       "  </thead>\n",
       "  <tbody>\n",
       "    <tr>\n",
       "      <th>2018-03-23</th>\n",
       "      <td>24.1005</td>\n",
       "      <td>1122.0</td>\n",
       "      <td>-0.024735</td>\n",
       "    </tr>\n",
       "    <tr>\n",
       "      <th>2018-03-26</th>\n",
       "      <td>24.8400</td>\n",
       "      <td>1126.0</td>\n",
       "      <td>0.013126</td>\n",
       "    </tr>\n",
       "    <tr>\n",
       "      <th>2018-03-27</th>\n",
       "      <td>24.0800</td>\n",
       "      <td>1117.0</td>\n",
       "      <td>-0.013495</td>\n",
       "    </tr>\n",
       "  </tbody>\n",
       "</table>\n",
       "</div>"
      ],
      "text/plain": [
       "               BDRY     BDI    target\n",
       "time                                 \n",
       "2018-03-23  24.1005  1122.0 -0.024735\n",
       "2018-03-26  24.8400  1126.0  0.013126\n",
       "2018-03-27  24.0800  1117.0 -0.013495"
      ]
     },
     "execution_count": 3,
     "metadata": {},
     "output_type": "execute_result"
    }
   ],
   "source": [
    "df = pd.read_csv(\"../data/cleaned_data.csv\")\n",
    "df = df.drop(columns=\"log_BDRY\").copy()\n",
    "df.set_index(\"time\", inplace=True)\n",
    "df.head(3)"
   ]
  },
  {
   "cell_type": "code",
   "execution_count": 4,
   "id": "f28d1f2c",
   "metadata": {},
   "outputs": [
    {
     "name": "stdout",
     "output_type": "stream",
     "text": [
      "Data split into train, validation, and test datasets.\n"
     ]
    }
   ],
   "source": [
    "dfs = train_val_test_split(df=df, train_val_test_ratio=(7,2,1))"
   ]
  },
  {
   "cell_type": "code",
   "execution_count": 5,
   "id": "ef78a820",
   "metadata": {},
   "outputs": [
    {
     "name": "stdout",
     "output_type": "stream",
     "text": [
      "Datasets min-max scaled.\n"
     ]
    }
   ],
   "source": [
    "df_train, df_val, df_test = min_max_scaler(dfs=dfs)"
   ]
  },
  {
   "cell_type": "code",
   "execution_count": 6,
   "id": "cb766fbd",
   "metadata": {},
   "outputs": [
    {
     "data": {
      "text/html": [
       "<div>\n",
       "<style scoped>\n",
       "    .dataframe tbody tr th:only-of-type {\n",
       "        vertical-align: middle;\n",
       "    }\n",
       "\n",
       "    .dataframe tbody tr th {\n",
       "        vertical-align: top;\n",
       "    }\n",
       "\n",
       "    .dataframe thead th {\n",
       "        text-align: right;\n",
       "    }\n",
       "</style>\n",
       "<table border=\"1\" class=\"dataframe\">\n",
       "  <thead>\n",
       "    <tr style=\"text-align: right;\">\n",
       "      <th></th>\n",
       "      <th>BDRY</th>\n",
       "      <th>BDI</th>\n",
       "      <th>target</th>\n",
       "    </tr>\n",
       "  </thead>\n",
       "  <tbody>\n",
       "    <tr>\n",
       "      <th>0</th>\n",
       "      <td>0.769748</td>\n",
       "      <td>0.240992</td>\n",
       "      <td>0.337520</td>\n",
       "    </tr>\n",
       "    <tr>\n",
       "      <th>1</th>\n",
       "      <td>0.797941</td>\n",
       "      <td>0.242314</td>\n",
       "      <td>0.531249</td>\n",
       "    </tr>\n",
       "    <tr>\n",
       "      <th>2</th>\n",
       "      <td>0.768967</td>\n",
       "      <td>0.239339</td>\n",
       "      <td>0.395035</td>\n",
       "    </tr>\n",
       "  </tbody>\n",
       "</table>\n",
       "</div>"
      ],
      "text/plain": [
       "       BDRY       BDI    target\n",
       "0  0.769748  0.240992  0.337520\n",
       "1  0.797941  0.242314  0.531249\n",
       "2  0.768967  0.239339  0.395035"
      ]
     },
     "execution_count": 6,
     "metadata": {},
     "output_type": "execute_result"
    }
   ],
   "source": [
    "df_train.head(3)"
   ]
  },
  {
   "cell_type": "code",
   "execution_count": 7,
   "id": "1f32d293",
   "metadata": {},
   "outputs": [
    {
     "data": {
      "text/html": [
       "<div>\n",
       "<style scoped>\n",
       "    .dataframe tbody tr th:only-of-type {\n",
       "        vertical-align: middle;\n",
       "    }\n",
       "\n",
       "    .dataframe tbody tr th {\n",
       "        vertical-align: top;\n",
       "    }\n",
       "\n",
       "    .dataframe thead th {\n",
       "        text-align: right;\n",
       "    }\n",
       "</style>\n",
       "<table border=\"1\" class=\"dataframe\">\n",
       "  <thead>\n",
       "    <tr style=\"text-align: right;\">\n",
       "      <th></th>\n",
       "      <th>BDRY</th>\n",
       "      <th>BDI</th>\n",
       "      <th>target</th>\n",
       "    </tr>\n",
       "  </thead>\n",
       "  <tbody>\n",
       "    <tr>\n",
       "      <th>0</th>\n",
       "      <td>0.865040</td>\n",
       "      <td>0.984463</td>\n",
       "      <td>0.453253</td>\n",
       "    </tr>\n",
       "    <tr>\n",
       "      <th>1</th>\n",
       "      <td>0.858178</td>\n",
       "      <td>0.984463</td>\n",
       "      <td>0.448999</td>\n",
       "    </tr>\n",
       "    <tr>\n",
       "      <th>2</th>\n",
       "      <td>0.880671</td>\n",
       "      <td>0.985785</td>\n",
       "      <td>0.513167</td>\n",
       "    </tr>\n",
       "  </tbody>\n",
       "</table>\n",
       "</div>"
      ],
      "text/plain": [
       "       BDRY       BDI    target\n",
       "0  0.865040  0.984463  0.453253\n",
       "1  0.858178  0.984463  0.448999\n",
       "2  0.880671  0.985785  0.513167"
      ]
     },
     "execution_count": 7,
     "metadata": {},
     "output_type": "execute_result"
    }
   ],
   "source": [
    "df_val.head(3)"
   ]
  },
  {
   "cell_type": "code",
   "execution_count": 8,
   "id": "ae9086f1",
   "metadata": {},
   "outputs": [
    {
     "data": {
      "text/html": [
       "<div>\n",
       "<style scoped>\n",
       "    .dataframe tbody tr th:only-of-type {\n",
       "        vertical-align: middle;\n",
       "    }\n",
       "\n",
       "    .dataframe tbody tr th {\n",
       "        vertical-align: top;\n",
       "    }\n",
       "\n",
       "    .dataframe thead th {\n",
       "        text-align: right;\n",
       "    }\n",
       "</style>\n",
       "<table border=\"1\" class=\"dataframe\">\n",
       "  <thead>\n",
       "    <tr style=\"text-align: right;\">\n",
       "      <th></th>\n",
       "      <th>BDRY</th>\n",
       "      <th>BDI</th>\n",
       "      <th>target</th>\n",
       "    </tr>\n",
       "  </thead>\n",
       "  <tbody>\n",
       "    <tr>\n",
       "      <th>0</th>\n",
       "      <td>0.462066</td>\n",
       "      <td>0.598678</td>\n",
       "      <td>0.417447</td>\n",
       "    </tr>\n",
       "    <tr>\n",
       "      <th>1</th>\n",
       "      <td>0.488753</td>\n",
       "      <td>0.592727</td>\n",
       "      <td>0.559068</td>\n",
       "    </tr>\n",
       "    <tr>\n",
       "      <th>2</th>\n",
       "      <td>0.505528</td>\n",
       "      <td>0.610579</td>\n",
       "      <td>0.521776</td>\n",
       "    </tr>\n",
       "  </tbody>\n",
       "</table>\n",
       "</div>"
      ],
      "text/plain": [
       "       BDRY       BDI    target\n",
       "0  0.462066  0.598678  0.417447\n",
       "1  0.488753  0.592727  0.559068\n",
       "2  0.505528  0.610579  0.521776"
      ]
     },
     "execution_count": 8,
     "metadata": {},
     "output_type": "execute_result"
    }
   ],
   "source": [
    "df_test.head(3)"
   ]
  },
  {
   "cell_type": "code",
   "execution_count": 9,
   "id": "d416bcd2",
   "metadata": {},
   "outputs": [
    {
     "data": {
      "text/plain": [
       "Total sequence size: 21\n",
       "Input indices: [ 0  1  2  3  4  5  6  7  8  9 10 11 12 13 14 15 16 17 18 19]\n",
       "Target indice(s): [20]\n",
       "Target column name(s): ['target']"
      ]
     },
     "execution_count": 9,
     "metadata": {},
     "output_type": "execute_result"
    }
   ],
   "source": [
    "#Instantiating a SequenceGenerator Class\n",
    "\n",
    "Sequencer = SequenceGenerator(input_width=20,\n",
    "                                      target_width=1,\n",
    "                                      offset=1,\n",
    "                                      df_train=df_train,\n",
    "                                      df_val=df_val,\n",
    "                                     df_test=df_test,\n",
    "                                     target_columns=[\"target\"])\n",
    "\n",
    "Sequencer"
   ]
  },
  {
   "cell_type": "code",
   "execution_count": 10,
   "id": "c8267b7d",
   "metadata": {},
   "outputs": [
    {
     "data": {
      "text/plain": [
       "782"
      ]
     },
     "execution_count": 10,
     "metadata": {},
     "output_type": "execute_result"
    }
   ],
   "source": [
    "len(df_train)"
   ]
  },
  {
   "cell_type": "code",
   "execution_count": 11,
   "id": "b53227c2",
   "metadata": {},
   "outputs": [
    {
     "data": {
      "text/plain": [
       "21"
      ]
     },
     "execution_count": 11,
     "metadata": {},
     "output_type": "execute_result"
    }
   ],
   "source": [
    "Sequencer.total_sequence_size"
   ]
  },
  {
   "cell_type": "code",
   "execution_count": 32,
   "id": "8c5cc25e",
   "metadata": {},
   "outputs": [
    {
     "data": {
      "text/plain": [
       "1"
      ]
     },
     "execution_count": 32,
     "metadata": {},
     "output_type": "execute_result"
    }
   ],
   "source": [
    "Sequencer.target_width"
   ]
  },
  {
   "cell_type": "markdown",
   "id": "0a67adf0",
   "metadata": {},
   "source": [
    "## Testing out the Sequence"
   ]
  },
  {
   "cell_type": "code",
   "execution_count": 33,
   "id": "23669f4d",
   "metadata": {},
   "outputs": [
    {
     "data": {
      "text/plain": [
       "TensorShape([3, 21, 3])"
      ]
     },
     "execution_count": 33,
     "metadata": {},
     "output_type": "execute_result"
    }
   ],
   "source": [
    "example_sequence = stack([np.array(df_train[:Sequencer.total_sequence_size]),\n",
    "                           np.array(df_train[100:100+Sequencer.total_sequence_size]),\n",
    "                           np.array(df_train[200:200+Sequencer.total_sequence_size])])\n",
    "example_sequence.shape"
   ]
  },
  {
   "cell_type": "code",
   "execution_count": 34,
   "id": "321b1863",
   "metadata": {},
   "outputs": [
    {
     "data": {
      "text/plain": [
       "<tf.Tensor: shape=(), dtype=float64, numpy=0.39503531854439916>"
      ]
     },
     "execution_count": 34,
     "metadata": {},
     "output_type": "execute_result"
    }
   ],
   "source": [
    "example_sequence[0, 2, 2]"
   ]
  },
  {
   "cell_type": "code",
   "execution_count": 37,
   "id": "a662799c",
   "metadata": {},
   "outputs": [
    {
     "name": "stdout",
     "output_type": "stream",
     "text": [
      "All shapes are: (batch, time, features)\n",
      "Sequence shape: (3, 21, 3)\n",
      "Inputs shape: (3, 20, 3)\n",
      "targets shape: (3, 1, 1)\n"
     ]
    }
   ],
   "source": [
    "# Inputting a tf.Tensor made up of 3 slices \n",
    "#(the 3 sequenecs that make up a single batch of batch_size=3) to generate\n",
    "\n",
    "# Stack 3 slices, the length of the total window.\n",
    "# FIX THIS!\n",
    "\n",
    "example_inputs, example_targets = Sequencer.split_sequence(example_sequence)\n",
    "\n",
    "print('All shapes are: (batch, time, features)')\n",
    "print(f'Sequence shape: {example_sequence.shape}')\n",
    "print(f'Inputs shape: {example_inputs.shape}')\n",
    "print(f'targets shape: {example_targets.shape}')\n",
    "\n",
    "#Desired shapes\n",
    "#Sequence shape: (3, 21, 2)\n",
    "#Inputs Shape: (3, 20, 2)\n",
    "# target shape: (3, 1, 1)"
   ]
  },
  {
   "cell_type": "code",
   "execution_count": null,
   "id": "fa4e8772",
   "metadata": {},
   "outputs": [],
   "source": []
  },
  {
   "cell_type": "code",
   "execution_count": 15,
   "id": "140fe140",
   "metadata": {},
   "outputs": [],
   "source": [
    "def init_model():\n",
    "    \n",
    "    \"\"\" \n",
    "    Initialize the LSTM Reucrrent Neural Network.\n",
    "    \"\"\"\n",
    "    \n",
    "    print(\"\\nInitialising model...\")\n",
    "    \n",
    "    model = Sequential()\n",
    "\n",
    "    #LSTM LAYERS:\n",
    "    \n",
    "    model.add(layers.LSTM(60,\n",
    "                          activation=\"tanh\",\n",
    "                          input_shape=(20,2),\n",
    "                          return_sequences=False))\n",
    "\n",
    "    #DENSE LAYERS:\n",
    "    \n",
    "    model.add(layers.Dense(25, activation=\"relu\"))\n",
    "    model.add(layers.Dense(1, activation=\"linear\"))\n",
    "    \n",
    "    print(\"\\nmodel initialized.\")\n",
    "\n",
    "    #SETTING UP OPTIMIZERS:\n",
    "    \n",
    "    lr_schedule = ExponentialDecay(initial_learning_rate=1e-3,\n",
    "                                   decay_steps=10000,\n",
    "                                   decay_rate=0.9)\n",
    "    \n",
    "    rmsprop = RMSprop(learning_rate=lr_schedule)\n",
    "    \n",
    "    #COMPILING MODEL:\n",
    "    \n",
    "    model.compile(loss=\"mse\",\n",
    "                  optimizer=rmsprop,\n",
    "                  metrics=\"mae\")\n",
    "    print(\"\\nmodel compiled.\")\n",
    "    \n",
    "\n",
    "    return model"
   ]
  },
  {
   "cell_type": "code",
   "execution_count": null,
   "id": "938ea715",
   "metadata": {},
   "outputs": [],
   "source": []
  },
  {
   "cell_type": "code",
   "execution_count": 23,
   "id": "68afb5f5",
   "metadata": {},
   "outputs": [],
   "source": [
    "def train_model(model:keras.Sequential,\n",
    "                XandY:data.Dataset,\n",
    "                patience=10,\n",
    "                validation_data=data.Dataset):\n",
    "    \n",
    "    \"\"\"\n",
    "    Fit model and return a the tuple (fitted_model, history)\n",
    "    \"\"\"\n",
    "    \n",
    "    print(\"\\nTraining model...\")\n",
    "    \n",
    "    #EarlyStopping DEFINITION:\n",
    "    \n",
    "    es = EarlyStopping(monitor=\"val_mae\",\n",
    "                       patience=patience,\n",
    "                       restore_best_weights=True)\n",
    "    \n",
    "    #FITTING MODEL:\n",
    "    \n",
    "    history = model.fit(XandY,\n",
    "                        epochs=100,\n",
    "                        validation_data=validation_data,\n",
    "                        shuffle=True,\n",
    "                        callbacks=es)\n",
    "    \n",
    "    \n",
    "    print(f\"\\nmodel trained ({len(XandY)} rows).\")\n",
    "     \n",
    "    return model, history"
   ]
  },
  {
   "cell_type": "code",
   "execution_count": 24,
   "id": "715104a3",
   "metadata": {},
   "outputs": [],
   "source": [
    "df = pd.read_csv(\"../data/cleaned_data.csv\")"
   ]
  }
 ],
 "metadata": {
  "kernelspec": {
   "display_name": "Python 3 (ipykernel)",
   "language": "python",
   "name": "python3"
  },
  "language_info": {
   "codemirror_mode": {
    "name": "ipython",
    "version": 3
   },
   "file_extension": ".py",
   "mimetype": "text/x-python",
   "name": "python",
   "nbconvert_exporter": "python",
   "pygments_lexer": "ipython3",
   "version": "3.10.8"
  },
  "toc": {
   "base_numbering": 1,
   "nav_menu": {},
   "number_sections": true,
   "sideBar": true,
   "skip_h1_title": false,
   "title_cell": "Table of Contents",
   "title_sidebar": "Contents",
   "toc_cell": false,
   "toc_position": {},
   "toc_section_display": true,
   "toc_window_display": false
  }
 },
 "nbformat": 4,
 "nbformat_minor": 5
}
